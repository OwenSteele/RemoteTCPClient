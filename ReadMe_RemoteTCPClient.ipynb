{
 "cells": [
  {
   "cell_type": "markdown",
   "metadata": {},
   "source": [
    "# <ins>Remote TCP Client</ins>"
   ]
  },
  {
   "cell_type": "markdown",
   "metadata": {},
   "source": [
    "##### By Owen Steele 2020"
   ]
  },
  {
   "cell_type": "markdown",
   "metadata": {},
   "source": [
    "*This repo works alongside the other repo ./RemoteTCPServer.git*\n",
    "**The /RemoteTCPServer.git repo is set to private, please conact me (OwenSteele) to gain access privileges**"
   ]
  },
  {
   "cell_type": "markdown",
   "metadata": {},
   "source": [
    "#### <ins>Functionality</ins>"
   ]
  },
  {
   "cell_type": "markdown",
   "metadata": {},
   "source": [
    "This Client runs on local networks only, multiple clients can be connected at once.\n",
    "\n",
    "**Requires a local server to be set and running before connection attempt.**\n",
    "\n",
    "Connects via the local IP and port of the server.\n",
    "\n",
    "SSL encryption is optional. If the server is SSL enabled, it is still optional for the client to connect with encrytion.\n",
    "If the client connects with SSL encryption, the server name (server certificate key) must also be entered."
   ]
  },
  {
   "cell_type": "markdown",
   "metadata": {},
   "source": [
    "### Setup and Running"
   ]
  },
  {
   "cell_type": "markdown",
   "metadata": {},
   "source": [
    "##### .NET 5.0 runtime is required to execute.\n",
    "Can be downloaded from MDN here: https://dotnet.microsoft.com/download\n",
    "Select .NET [core/framework] runtime option and install\n",
    "\n",
    "<ins>Simple setup through GitHub</ins>"
   ]
  },
  {
   "cell_type": "code",
   "execution_count": null,
   "metadata": {},
   "outputs": [],
   "source": [
    "1. Download this repo as a '.zip' file, and extract once downloaded.\n",
    "2. Navigate to /RemoteTCPServer/bin/Debug/net5.\n",
    "3. Run RemoteTCPClient.exe"
   ]
  },
  {
   "cell_type": "markdown",
   "metadata": {},
   "source": [
    "**Can also be built and run with Visual Studio**\n",
    "\n",
    "Ensure that your machine has the .NET 5.0 SDK installed"
   ]
  },
  {
   "cell_type": "markdown",
   "metadata": {},
   "source": [
    "<ins>Simple setup through terminal (windows)</ins>"
   ]
  },
  {
   "cell_type": "code",
   "execution_count": null,
   "metadata": {},
   "outputs": [],
   "source": [
    "1. cd [your chosen dir]\n",
    "2. mkdir RemoteTCPClient\n",
    "3. cd RemoteTCPClient \n",
    "4. git init\n",
    "5. git clone https://github.com/OwenSteele/RemoteTCPClient.git\n",
    "6. cd /RemoteTCPServer/bin/Debug/net5.0/\n",
    "7. ./RemoteTCPClient.exe"
   ]
  },
  {
   "cell_type": "markdown",
   "metadata": {},
   "source": [
    "*NOTE: step 5 requires the necessary access privileges*"
   ]
  },
  {
   "cell_type": "markdown",
   "metadata": {},
   "source": [
    "### Starting a client"
   ]
  },
  {
   "cell_type": "markdown",
   "metadata": {},
   "source": [
    "The terminal/console will ask you for initial input:\n",
    "\n",
    "* Enter the server local IP: (255.255.255.255)\n",
    "* Enter the server port number: (0 to 65535)\n",
    "* Choose to enable SSL encryption:\n",
    "    If you enable SSL, you will be prompted to provide the server name (and certificate):\n",
    "    \n",
    "**Clients require the localIP and the port number to connect.**\n",
    "**Clients are not required to enable SSL to connect - however if enabled, clients also require the server name (key) set.**"
   ]
  },
  {
   "cell_type": "markdown",
   "metadata": {},
   "source": [
    "### Stucture\n"
   ]
  },
  {
   "cell_type": "code",
   "execution_count": null,
   "metadata": {},
   "outputs": [],
   "source": [
    "while (strData == null)\n",
    "                    {\n",
    "                        CancellationTokenSource cts = new();\n",
    "                        var task = Task.Run(() => {\n",
    "                            try\n",
    "                            {                                \n",
    "                                cts.CancelAfter(5000);\n",
    "                                if (!pauseInputOutput) UserInput(headers, functionTag);\n",
    "                            }\n",
    "                            catch (TaskCanceledException) { }\n",
    "                        });\n",
    "                        \n",
    "                        strData = RecieveMessage();\n",
    "                    }"
   ]
  },
  {
   "cell_type": "markdown",
   "metadata": {},
   "source": [
    "The client uses asyncronous code to simultaneously cycle through waiting for user input and server messages"
   ]
  },
  {
   "cell_type": "markdown",
   "metadata": {},
   "source": [
    "### Client - Interface"
   ]
  },
  {
   "cell_type": "markdown",
   "metadata": {},
   "source": [
    "**Connect:** after enter the server metadata and information, the client will attempt to connect\n",
    "\n",
    "**Commands:** Once connected, the client can enter commands to be sent to the server, shown by entering:\n"
   ]
  },
  {
   "cell_type": "code",
   "execution_count": null,
   "metadata": {},
   "outputs": [],
   "source": [
    "$ help"
   ]
  },
  {
   "cell_type": "markdown",
   "metadata": {},
   "source": [
    "**Login:** Clients can login to predefined (on server) users, default login 'user', password':"
   ]
  },
  {
   "cell_type": "code",
   "execution_count": null,
   "metadata": {},
   "outputs": [],
   "source": [
    "$ login\n",
    "User: user\n",
    "Password: password"
   ]
  },
  {
   "cell_type": "markdown",
   "metadata": {},
   "source": [
    "**Users:** Client can log in to users as above, this data is solely held by the server.\n",
    "\n",
    "**Commands** The '$ help' commands will show all commands and their syntax. If a command is called incorrectly, the server will              return it's 'help' information.\n",
    "             \n",
    "             Some commands can only be accessed when logged in, or even only by the admin.           \n",
    "\n",
    "**Disconnect:** to disconnect, close the app window or type:"
   ]
  },
  {
   "cell_type": "code",
   "execution_count": null,
   "metadata": {},
   "outputs": [],
   "source": [
    "$ !sd"
   ]
  },
  {
   "cell_type": "markdown",
   "metadata": {},
   "source": [
    "<ins> **User commands**</ins>\n",
    "\n",
    "*After a successful login attempt, clients can access more powerful functions.*\n",
    "\n",
    "**File Transfer:** Users can send and retrieve files from the server \n",
    "                   (requires admin to set the dir path first **!BE CAREFUL THIS SET A PATH TO SAVE FILES ON THE SERVER MACHINE,                      NOT THE CLIENT MACHINE!**).\n",
    "\n",
    "**Messaging:** Users can directly message one another, using the 'clientIP:clientHandle' as the identifier:"
   ]
  },
  {
   "cell_type": "code",
   "execution_count": null,
   "metadata": {},
   "outputs": [],
   "source": [
    "$ userName message list //shows all the available clients\n",
    "$ owen message 192.168.0.1:1000 message starts after the IP:Handle"
   ]
  },
  {
   "cell_type": "markdown",
   "metadata": {},
   "source": [
    "The client (user: owen) would request to send a message to 192.168.0.1:1000.\n",
    "the message would be 'message starts after the IP:Handle'.\n",
    "\n",
    "clients can only message when logged in, and only request to message other client whom are also logged in, an not private."
   ]
  },
  {
   "cell_type": "markdown",
   "metadata": {},
   "source": [
    "**Security:** Users can set their visiblity and security to three states, 'private', 'prompt on request' and 'auto accept'.\n",
    "              Private users cannot recieve or send anything to other clients, and cannot be seen by other clients.\n",
    "              Prompted users, must accept a request from another client before recieving data, does not apply to sending data.\n",
    "              Auto accepting users, automatically accept any data sent to them."
   ]
  }
 ],
 "metadata": {
  "kernelspec": {
   "display_name": ".NET (C#)",
   "language": "C#",
   "name": ".net-csharp"
  },
  "language_info": {
   "file_extension": ".cs",
   "mimetype": "text/x-csharp",
   "name": "C#",
   "pygments_lexer": "csharp",
   "version": "8.0"
  }
 },
 "nbformat": 4,
 "nbformat_minor": 4
}
